{
 "cells": [
  {
   "cell_type": "markdown",
   "id": "ae5c71dc",
   "metadata": {},
   "source": [
    "# Arrays\n",
    "--------------------------------------------------------------------------------------------------------------------------------\n",
    "\n",
    "In this notebook, you will learn about:\n",
    " - [arrays](#Arrays) using __*NumPy*__ (installed by default in Anaconda)."
   ]
  },
  {
   "attachments": {
    "image-2.png": {
     "image/png": "[encoded data removed]"
    }
   },
   "cell_type": "markdown",
   "id": "1200a264",
   "metadata": {},
   "source": [
    "## Arrays\n",
    "\n",
    "What is an array?\n",
    "\n",
    "According to Wikipedia an [array](https://en.wikipedia.org/wiki/Array_(data_structure)):\n",
    "> \"*is a data structure consisting of a collection of elements (values or variables), of same memory size, each identified by at least one array index or key.*\"\n",
    "\n",
    "This is shown on a graphical form in the figure below.\n",
    "<img src=\"attachment:image-2.png\" alt=\"image-2.png\" width=\"200\"/>\n",
    "Note that while the index is always of *integer* type, the data can be either of *integer* or *real/float* type.\n",
    "\n",
    "In both __*Python*__ and __*NumPy*__, the index of an array always starts at zero."
   ]
  },
  {
   "cell_type": "markdown",
   "id": "b84cb6b7",
   "metadata": {},
   "source": [
    "Next, let's create an array using the __*NumPy*__ method __*array*__ (a [method](https://en.wikipedia.org/wiki/Method_(computer_programming)) is a function that belongs to a [class](https://en.wikipedia.org/wiki/Class_(computer_programming))). To do this, you need to complete the following steps: \n",
    " 1. Import the __*NumPy*__ library. This is usually done by using an \"alias\" for __*NumPy*__ to make it easier and quicker to use it. We will use the \"alias\" __*np*__."
   ]
  },
  {
   "cell_type": "code",
   "execution_count": 2,
   "id": "385ad3b4",
   "metadata": {},
   "outputs": [],
   "source": [
    "import numpy as np"
   ]
  },
  {
   "cell_type": "markdown",
   "id": "cff67d0d",
   "metadata": {},
   "source": [
    " 2. Create an array using __*np.array*__. As mentioned above, __*np.array*__ is basically a function, as such it requires a set of inputs to produce an output. For more information on the different inputs that __*np.array*__ accepts and the various ways in which it can be used visit the [__*numpy.array*__ reference page ](https://numpy.org/doc/stable/reference/generated/numpy.array.html)\n",
    " \n",
    " For this example, we will provide a set of values to that form the elements of the array. "
   ]
  },
  {
   "cell_type": "code",
   "execution_count": 3,
   "id": "1ac19e7d",
   "metadata": {},
   "outputs": [
    {
     "name": "stdout",
     "output_type": "stream",
     "text": [
      "[0.25 1.56 5.2  3.2  5.8 ]\n"
     ]
    }
   ],
   "source": [
    "my_array = np.array([0.25,1.56,5.2,3.2,5.8])\n",
    "print(my_array)"
   ]
  },
  {
   "cell_type": "markdown",
   "id": "16b78c66",
   "metadata": {},
   "source": [
    "As mentioned above, in __*NumPy*__, the index of an array always starts at zero. So, to retrieve the value of the 2nd element you would need to access index 1, for the 3rd element you would need to access index 2 and so on.\n",
    "\n",
    "Below you can find an illustrtive example."
   ]
  },
  {
   "cell_type": "code",
   "execution_count": 4,
   "id": "fd271bcf",
   "metadata": {
    "scrolled": true
   },
   "outputs": [
    {
     "name": "stdout",
     "output_type": "stream",
     "text": [
      "The value of element number 0 in the array is: 0.250\n",
      "The value of element number 3 in the array is: 3.200\n"
     ]
    }
   ],
   "source": [
    "elem = 0\n",
    "print(\"The value of element number {} in the array is: {:.3f}\".format(elem,my_array[elem]))\n",
    "elem = 3\n",
    "print(\"The value of element number {} in the array is: {:.3f}\".format(elem,my_array[elem]))"
   ]
  },
  {
   "cell_type": "markdown",
   "id": "9c61494b",
   "metadata": {},
   "source": [
    "When __*NumPy*__ arrays are created, several auxiliary functions/methods are made available. This can be useful when dealing with a large number of elements.\n",
    "\n",
    "For instance, if the array is numeric, you can request for the maximum/minimum values in the array using the methods: __*max()*__ and __*min()*__. Below you can find an example of how to do this."
   ]
  },
  {
   "cell_type": "code",
   "execution_count": 5,
   "id": "6095a97d",
   "metadata": {},
   "outputs": [
    {
     "name": "stdout",
     "output_type": "stream",
     "text": [
      "The max. value in the array is: 5.800\n",
      "The min. value in the array is: 0.250\n"
     ]
    }
   ],
   "source": [
    "print(\"The max. value in the array is: {:.3f}\".format(my_array.max()))\n",
    "print(\"The min. value in the array is: {:.3f}\".format(my_array.min()))"
   ]
  },
  {
   "cell_type": "markdown",
   "id": "a8bd785c",
   "metadata": {},
   "source": [
    "### Additional material to cover on your own and at your own pace\n",
    "\n",
    "You might want to continue exploring some of the embedded functions/methods that are available when working with __*NumPy*__ arrays. I suggest trying the following:\n",
    "- retrieving the mean/average value of the elements in the array,\n",
    "- retrieving the standard deviation value of the elements in the array,\n",
    "- accessing a custom range of elements (e.g., more than more element at a time)."
   ]
  }
 ],
 "metadata": {
  "kernelspec": {
   "display_name": "Python 3 (ipykernel)",
   "language": "python",
   "name": "python3"
  },
  "language_info": {
   "codemirror_mode": {
    "name": "ipython",
    "version": 3
   },
   "file_extension": ".py",
   "mimetype": "text/x-python",
   "name": "python",
   "nbconvert_exporter": "python",
   "pygments_lexer": "ipython3",
   "version": "3.9.12"
  }
 },
 "nbformat": 4,
 "nbformat_minor": 5
}
